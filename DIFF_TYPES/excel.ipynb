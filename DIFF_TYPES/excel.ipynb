{
 "cells": [
  {
   "cell_type": "code",
   "execution_count": 10,
   "metadata": {},
   "outputs": [
    {
     "name": "stdout",
     "output_type": "stream",
     "text": [
      "{'ML':    Student ID Student name  Grade\n",
      "0           1          Аня      7\n",
      "1           2         Катя      5\n",
      "2           3         Маша      9\n",
      "3           4         Миша      8\n",
      "4           5         Женя      9\n",
      "5           6          Оля      9\n",
      "6           7         Витя      7\n",
      "7           8         Дима      4\n",
      "8           9         Витя      5, 'Maths':    Student ID Student name  Grade\n",
      "0           1          Аня      8\n",
      "1           2         Катя      9\n",
      "2           3         Маша      7\n",
      "3           4         Миша      4\n",
      "4           5         Женя      8\n",
      "5           6          Оля      9\n",
      "6           7         Витя      8\n",
      "7           8         Дима      7\n",
      "8           9         Витя      5}\n"
     ]
    }
   ],
   "source": [
    "import pandas as pd\n",
    "ex = pd.read_excel('data\\grades.xlsx', sheet_name = ['ML', 'Maths'])\n",
    "print(ex)"
   ]
  },
  {
   "cell_type": "code",
   "execution_count": 25,
   "metadata": {},
   "outputs": [],
   "source": [
    "ratings_data = pd.read_excel('data\\\\ratings_movies.xlsx', sheet_name='ratings')\n",
    "movies_data = pd.read_excel('data\\\\ratings_movies.xlsx', sheet_name='movies')\n",
    "summary_data = pd.merge(ratings_data, movies_data, on='movieId', how='inner')\n",
    "summary_data.to_excel('data\\grades_baby.xlsx', index=False)"
   ]
  }
 ],
 "metadata": {
  "kernelspec": {
   "display_name": "Python 3",
   "language": "python",
   "name": "python3"
  },
  "language_info": {
   "codemirror_mode": {
    "name": "ipython",
    "version": 3
   },
   "file_extension": ".py",
   "mimetype": "text/x-python",
   "name": "python",
   "nbconvert_exporter": "python",
   "pygments_lexer": "ipython3",
   "version": "3.9.10"
  }
 },
 "nbformat": 4,
 "nbformat_minor": 2
}
